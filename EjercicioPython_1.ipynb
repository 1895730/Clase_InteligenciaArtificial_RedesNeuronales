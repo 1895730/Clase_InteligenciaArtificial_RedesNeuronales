{
  "nbformat": 4,
  "nbformat_minor": 0,
  "metadata": {
    "colab": {
      "provenance": [],
      "authorship_tag": "ABX9TyNI29B6OvBEHcSmpEK9kHsI",
      "include_colab_link": true
    },
    "kernelspec": {
      "name": "python3",
      "display_name": "Python 3"
    },
    "language_info": {
      "name": "python"
    }
  },
  "cells": [
    {
      "cell_type": "markdown",
      "metadata": {
        "id": "view-in-github",
        "colab_type": "text"
      },
      "source": [
        "<a href=\"https://colab.research.google.com/github/ClaudiaVizcaino/Clase_InteligenciaArtificial_RedesNeuronales/blob/main/EjercicioPython_1.ipynb\" target=\"_parent\"><img src=\"https://colab.research.google.com/assets/colab-badge.svg\" alt=\"Open In Colab\"/></a>"
      ]
    },
    {
      "cell_type": "code",
      "source": [
        "nombre = input(\"¿Como te llamas? \")\n",
        "if nombre == \"Ana\" or nombre == \"Juan\" or nombre == \"Pedro\" or nombre == \"ana\" or nombre == \"juan\" or nombre == \"pedro\":\n",
        "  print(\"No quiero saludarte\")\n",
        "else:\n",
        "  print(\"Hello,\" +nombre)"
      ],
      "metadata": {
        "id": "WBXEQJtmZA7a"
      },
      "execution_count": null,
      "outputs": []
    },
    {
      "cell_type": "code",
      "source": [
        " elementos = input(\"Ingrese la lista de elementos separados por comas: \")\n",
        " lista = elementos.split(\",\")\n",
        " lista.reverse()\n",
        " print(lista)"
      ],
      "metadata": {
        "id": "GdgClopnalTx"
      },
      "execution_count": null,
      "outputs": []
    },
    {
      "cell_type": "code",
      "source": [
        "n = int(input(\"Cuantos numeros de la serie de Fibonacci quieres generar: \"))\n",
        "x = 0\n",
        "y = 1\n",
        "for i in range(n):\n",
        "  print(y, end=\", \")\n",
        "  z = x + y\n",
        "  x = y\n",
        "  y = z\n",
        "  \n",
        "\n"
      ],
      "metadata": {
        "id": "omv6FOePsVHK"
      },
      "execution_count": null,
      "outputs": []
    }
  ]
}