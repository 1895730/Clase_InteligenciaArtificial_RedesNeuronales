{
  "nbformat": 4,
  "nbformat_minor": 0,
  "metadata": {
    "colab": {
      "provenance": []
    },
    "kernelspec": {
      "name": "python3",
      "display_name": "Python 3"
    },
    "language_info": {
      "name": "python"
    }
  },
  "cells": [
    {
      "cell_type": "code",
      "source": [
        "nombre = input(\"¿Como te llamas? \")\n",
        "if nombre == \"Ana\" or nombre == \"Juan\" or nombre == \"Pedro\" or nombre == \"ana\" or nombre == \"juan\" or nombre == \"pedro\":\n",
        "  print(\"No quiero saludarte\")\n",
        "else:\n",
        "  print(\"Hello,\" +nombre)"
      ],
      "metadata": {
        "id": "WBXEQJtmZA7a"
      },
      "execution_count": null,
      "outputs": []
    },
    {
      "cell_type": "code",
      "source": [
        " elementos = input(\"Ingrese la lista de elementos separados por comas: \")\n",
        " lista = elementos.split(\",\")\n",
        " lista.reverse()\n",
        " print(lista)"
      ],
      "metadata": {
        "id": "GdgClopnalTx"
      },
      "execution_count": null,
      "outputs": []
    },
    {
      "cell_type": "code",
      "source": [
        "n = int(input(\"Cuantos numeros de la serie de Fibonacci quieres generar: \"))\n",
        "x = 0\n",
        "y = 1\n",
        "for i in range(n):\n",
        "  print(y, end=\", \")\n",
        "  z = x + y\n",
        "  x = y\n",
        "  y = z\n",
        "  \n",
        "\n"
      ],
      "metadata": {
        "id": "omv6FOePsVHK"
      },
      "execution_count": null,
      "outputs": []
    }
  ]
}