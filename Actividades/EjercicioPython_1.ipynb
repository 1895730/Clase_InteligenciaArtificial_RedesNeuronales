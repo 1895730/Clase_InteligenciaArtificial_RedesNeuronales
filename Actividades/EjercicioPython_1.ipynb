{
  "nbformat": 4,
  "nbformat_minor": 0,
  "metadata": {
    "colab": {
      "provenance": []
    },
    "kernelspec": {
      "name": "python3",
      "display_name": "Python 3"
    },
    "language_info": {
      "name": "python"
    }
  },
  "cells": [
    {
      "cell_type": "code",
      "source": [
        "#A2: Ejercicios en Python- Claudia Elizabeth Vizcaino Cardenas-1986603- Hora Clase: N1 #\n",
        "nombre = input(\"¿Como te llamas? \") \n",
        "if nombre == \"Ana\" or nombre == \"Juan\" or nombre == \"Pedro\" or nombre == \"ana\" or nombre == \"juan\" or nombre == \"pedro\": \n",
        "  print(\"No quiero saludarte:)\") \n",
        "else: \n",
        "   print(\"Hello,\"+nombre)"
      ],
      "metadata": {
        "id": "jrPy6B5kkLgt",
        "outputId": "8feb7a5e-6ab6-4be8-c7cb-51dfd0c0dd16",
        "colab": {
          "base_uri": "https://localhost:8080/"
        }
      },
      "execution_count": 154,
      "outputs": [
        {
          "output_type": "stream",
          "name": "stdout",
          "text": [
            "¿Como te llamas? Juan\n",
            "No quiero saludarte:)\n"
          ]
        }
      ]
    },
    {
      "cell_type": "code",
      "source": [
        " elementos = input(\"Ingrese la lista de elementos separados por comas: \")\n",
        " lista = elementos.split(\",\")\n",
        " lista.reverse()\n",
        " print(lista)"
      ],
      "metadata": {
        "colab": {
          "base_uri": "https://localhost:8080/"
        },
        "id": "GdgClopnalTx",
        "outputId": "cb920920-5633-40be-f634-93c46b3593f1"
      },
      "execution_count": null,
      "outputs": [
        {
          "output_type": "stream",
          "name": "stdout",
          "text": [
            "Ingrese la lista de elementos separados por comas: Mexico, Alemania, Canada, Italia\n",
            "[' Italia', ' Canada', ' Alemania', 'Mexico']\n"
          ]
        }
      ]
    },
    {
      "cell_type": "code",
      "source": [
        "n = int(input(\"Cuantos numeros de la serie de Fibonacci quieres generar: \"))\n",
        "x = 0\n",
        "y = 1\n",
        "for i in range(n):\n",
        "  print(y, end=\", \")\n",
        "  z = x + y\n",
        "  x = y\n",
        "  y = z\n",
        "  \n",
        "\n"
      ],
      "metadata": {
        "colab": {
          "base_uri": "https://localhost:8080/"
        },
        "id": "omv6FOePsVHK",
        "outputId": "226eaf6b-2144-456c-b207-fa6a567944cc"
      },
      "execution_count": null,
      "outputs": [
        {
          "output_type": "stream",
          "name": "stdout",
          "text": [
            "Cuantos numeros de la serie de Fibonacci quieres generar: 12\n",
            "1, 1, 2, 3, 5, 8, 13, 21, 34, 55, 89, 144, "
          ]
        }
      ]
    }
  ]
}